{
 "cells": [
  {
   "cell_type": "code",
   "execution_count": 1,
   "id": "87a9a729",
   "metadata": {},
   "outputs": [],
   "source": [
    "CLIENT_ID = \"UgUplh2ZxU8yxdWJKw2EcA\" \n",
    "CLIENT_SECRET = \"TCedH66V4CdhhBA6_ob0DQdlC9KAgA\""
   ]
  },
  {
   "cell_type": "code",
   "execution_count": 2,
   "id": "26fbfb37",
   "metadata": {},
   "outputs": [],
   "source": [
    "USER_AGENT = \"python:<test0.1> (by /u/laylacheng)\""
   ]
  },
  {
   "cell_type": "code",
   "execution_count": 3,
   "id": "fe050b1e",
   "metadata": {},
   "outputs": [],
   "source": [
    "USERNAME = \"laylacheng\" \n",
    "PASSWORD = \"Layla69210104\""
   ]
  },
  {
   "cell_type": "code",
   "execution_count": 4,
   "id": "5cd987d9",
   "metadata": {},
   "outputs": [],
   "source": [
    "import requests\n",
    "def login(username, password):\n",
    "    if password is None:\n",
    "        password = getpass.getpass(\"Enter reddit password for user {}: \".format(username))    \n",
    "    headers = {\"User-Agent\": USER_AGENT}\n",
    "    # Setup an auth object with our credentials\n",
    "    client_auth = requests.auth.HTTPBasicAuth(CLIENT_ID, CLIENT_SECRET)\n",
    "    # Make a post request to the access_token endpoint\n",
    "    post_data = {\"grant_type\": \"password\", \"username\": username, \"password\": password}\n",
    "    response = requests.post(\"https://www.reddit.com/api/v1/access_token\", auth=client_auth,     \n",
    "                             data=post_data, headers=headers) \n",
    "    return response.json()"
   ]
  },
  {
   "cell_type": "code",
   "execution_count": 5,
   "id": "801e8f0f",
   "metadata": {},
   "outputs": [
    {
     "data": {
      "text/plain": [
       "{'access_token': '29100435401805-i15wqmdaZotPqOjqT4rQv06kvzaIXw',\n",
       " 'token_type': 'bearer',\n",
       " 'expires_in': 86400,\n",
       " 'scope': '*'}"
      ]
     },
     "execution_count": 5,
     "metadata": {},
     "output_type": "execute_result"
    }
   ],
   "source": [
    "token = login(USERNAME, PASSWORD)\n",
    "token"
   ]
  },
  {
   "cell_type": "code",
   "execution_count": 6,
   "id": "58440aa7",
   "metadata": {},
   "outputs": [],
   "source": [
    "subreddit = \"worldnews\""
   ]
  },
  {
   "cell_type": "code",
   "execution_count": 7,
   "id": "4e51d57f",
   "metadata": {},
   "outputs": [],
   "source": [
    "url = \"https://oauth.reddit.com/r/{}\".format(subreddit)"
   ]
  },
  {
   "cell_type": "code",
   "execution_count": 8,
   "id": "06279732",
   "metadata": {},
   "outputs": [],
   "source": [
    "headers = {\"Authorization\": \"bearer {}\".format(token['access_token']), \n",
    "\"User-Agent\": USER_AGENT}"
   ]
  },
  {
   "cell_type": "code",
   "execution_count": 9,
   "id": "137cb03b",
   "metadata": {},
   "outputs": [],
   "source": [
    "response = requests.get(url, headers=headers)\n",
    "result = response.json()"
   ]
  },
  {
   "cell_type": "code",
   "execution_count": 10,
   "id": "b7cd1b52",
   "metadata": {},
   "outputs": [
    {
     "name": "stdout",
     "output_type": "stream",
     "text": [
      "/r/WorldNews Live Thread: Russian Invasion of Ukraine Day 434, Part 1 (Thread #575)\n",
      "Today is World Press Freedom Day and 5 weeks since WSJ reporter Evan Gershkovich was wrongfully detained by Russia. We are a WSJ editor and a press freedom advocate. Ask us anything.\n",
      "Kremlin Says It Was Attacked by Two Drones Last Night, Putin Safe\n",
      "Finnish newspaper hides a secret room, detailing Russian illegal war in Ukraine, within Counter-Strike - a popular video game in Russia\n",
      "Ukrainian President Zelensky arrives in Finland to meet Nordic PMs\n",
      "Kremlin accuses Ukraine of trying to assassinate Putin\n",
      "Russian fuel depot catches fire near key Crimea bridge\n",
      "Teenage boy opens fire in school in Serbian capital\n",
      "Ukrainian Defence Minister suggests that Russia is preparing new \"goodwill gesture\"\n",
      "Nato planning to open Japan office to deepen Asia-Pacific ties – report\n",
      "Finnish newspaper made a Counter-Strike map where is a hidden room for uncensored news about war between Russia and Ukraine for Russian citizens\n",
      "Ukraine claims Russian troops and Wagner mercenaries are fighting each other\n",
      "India's press freedom rank slips below Pakistan, Afghanistan to an abysmal 161 out of 180 ranked countries\n",
      "Press freedom is under attack in every corner of the globe, with journalists continually harassed, jailed and killed, UN officials and media outlets warned Tuesday\n",
      "Russia accuses Ukraine of trying to kill Vladimir Putin with Kremlin drone strike\n",
      "Parts of a controversial anti-protest law come into force ahead of King Charles' coronation | CNN\n",
      "Missing Australian fishermans body found in crocodile\n",
      "Hundreds of Russian Storm units fighters prepare provocation in Ukrainian uniforms\n",
      "First law banning conversion therapies passed in Switzerland\n",
      "Ukraine war: Russia scales back Victory Day celebrations\n",
      "Fuel depot ablaze near key Crimea bridge in Russia\n",
      "Six Libyans face death penalty for converting to Christianity | Global development\n",
      "A second train derailment in two days is reported in a Russian border area.\n",
      "Reuters: Putin not invited to King Charles' coronation\n",
      "Greece's Supreme Court on Tuesday banned a party founded by a jailed member of the neo-Nazi Golden Dawn group from contesting the May 21 general election\n",
      "Fuel depot ablaze near key Crimea bridge in Russia\n",
      "3 imprisoned Iranian female journalists win top UN prize\n"
     ]
    }
   ],
   "source": [
    "for story in result['data']['children']: \n",
    "    print(story['data']['title'])"
   ]
  },
  {
   "cell_type": "code",
   "execution_count": 11,
   "id": "c57d57ac",
   "metadata": {},
   "outputs": [],
   "source": [
    "from time import sleep"
   ]
  },
  {
   "cell_type": "code",
   "execution_count": 12,
   "id": "3cdc24ba",
   "metadata": {},
   "outputs": [],
   "source": [
    "def get_links(subreddit, token, n_pages=5):\n",
    "    stories = []\n",
    "    after = None\n",
    "    for page_number in range(n_pages):\n",
    "        # Setup headers and make call, just like in the login function\n",
    "        headers = {\"Authorization\": \"bearer {}\".format(token['access_token']), \"User-Agent\": USER_AGENT} \n",
    "        url = \"https://oauth.reddit.com/r/{}?limit=100\". format(subreddit)\n",
    "        if after:\n",
    "            # Append cursor for next page, if we have one\n",
    "            url += \"&after={}\".format(after)\n",
    "        response = requests.get(url, headers=headers)\n",
    "        result = response.json()\n",
    "        # Get the new cursor for the next loop\n",
    "        after = result['data']['after']\n",
    "        # Sleep before making calls to avoid going over the API limit\n",
    "        sleep(2)\n",
    "        stories.extend([(story['data']['title'], story['data']['url'],story['data']['score'])\n",
    "                        for story in result['data']['children']])\n",
    "    return stories"
   ]
  },
  {
   "cell_type": "code",
   "execution_count": 13,
   "id": "a1dd042f",
   "metadata": {},
   "outputs": [],
   "source": [
    "stories = get_links(\"worldnews\", token)"
   ]
  },
  {
   "cell_type": "code",
   "execution_count": 2,
   "id": "add5a8b3",
   "metadata": {},
   "outputs": [],
   "source": [
    "import os\n",
    "import hashlib\n",
    "\n",
    "data_folder = r\"C:\\Users\\layla\\Desktop\\三下\\Data mining\\data\\websites\\raw\""
   ]
  },
  {
   "cell_type": "code",
   "execution_count": 15,
   "id": "72dbda98",
   "metadata": {},
   "outputs": [],
   "source": [
    "#number_errors = 0"
   ]
  },
  {
   "cell_type": "code",
   "execution_count": 16,
   "id": "2d9a7ca8",
   "metadata": {},
   "outputs": [
    {
     "name": "stdout",
     "output_type": "stream",
     "text": [
      "Received 429 Too Many Requests for URL 'https://www.reddit.com/live/18hnzysb1elcs'. Retrying after 5 seconds...\n",
      "Error occurred for URL 'https://www.france24.com/en/americas/20230503-un-issues-rallying-cry-for-press-freedom-worldwide': Received status code 403 Forbidden\n",
      "Error occurred for URL 'https://www.nytimes.com/2023/05/02/world/europe/russia-train-derailment-ukraine.html': Received status code 403 Forbidden\n",
      "Error occurred for URL 'https://www.france24.com/en/live-news/20230502-greece-bans-party-linked-to-neo-nazi-group-from-may-vote': Received status code 403 Forbidden\n",
      "Error occurred for URL 'https://medyascope.tv/2023/05/02/turkish-president-erdogans-challenger-warns-against-cambridge-analytica-type-election-interference/': Received status code 403 Forbidden\n",
      "Error occurred for URL 'https://www.france24.com/en/africa/20230502-burkina-faso-authorities-under-fire-after-uniformed-men-massacre-150-villagers': Received status code 403 Forbidden\n",
      "Error occurred for URL 'https://www.france24.com/en/europe/20230501-germany-hopes-to-help-climate-with-new-flat-rate-travel-card': Received status code 403 Forbidden\n",
      "Error occurred for URL 'https://www.channelnewsasia.com/business/tinder-owner-match-group-swipes-left-russia-pledging-exit-june-30-3458986?utm_source=dlvr.it&amp;utm_medium=twitter': Received status code 403 Forbidden\n",
      "Error occurred for URL 'https://www.straitstimes.com/singapore/politics/war-in-asia-would-be-far-more-damaging-than-ukraine-war-says-ng-eng-hen': Received status code 403 Forbidden\n",
      "Error occurred for URL 'https://www.usnews.com/news/world/articles/2023-05-03/dozens-arrested-in-germany-in-european-probe-of-italian-organised-crime': ('Connection aborted.', ConnectionResetError(10054, '遠端主機已強制關閉一個現存的連線。', None, 10054, None))\n",
      "Received 429 Too Many Requests for URL 'https://www.reddit.com/live/18hnzysb1elcs'. Retrying after 5 seconds...\n",
      "Error occurred for URL 'https://www.france24.com/en/asia-pacific/20230503-myanmar-junta-pardons-more-than-2-000-prisoners-to-mark-full-moon': Received status code 403 Forbidden\n",
      "Error occurred for URL 'https://www.usnews.com/news/world/articles/2023-05-03/iranian-president-raisi-leaves-tehran-for-syria-tasnim': ('Connection aborted.', ConnectionResetError(10054, '遠端主機已強制關閉一個現存的連線。', None, 10054, None))\n",
      "Error occurred for URL 'https://www.france24.com/en/france/20230501-french-finance-minister-raises-eyebrows-with-racy-novel': Received status code 403 Forbidden\n",
      "Error occurred for URL 'https://www.channelnewsasia.com/business/brazil-orders-google-curb-campaign-against-fake-news-law-3459696': Received status code 403 Forbidden\n",
      "Error occurred for URL 'https://news.mongabay.com/2023/05/ethiopia-used-chemicals-to-kill-locusts-billions-of-honeybees-disappeared/': Received status code 403 Forbidden\n",
      "Error occurred for URL 'https://www.france24.com/en/live-news/20230502-two-kenyan-pastors-face-courts-over-cult-massacre': Received status code 403 Forbidden\n",
      "Error occurred for URL 'https://www.france24.com/en/france/20230501-%F0%9F%94%B4-live-france-faces-major-labour-day-protests-over-macron-s-pension-reform': Received status code 403 Forbidden\n",
      "Error occurred for URL 'https://www.dutchnews.nl/news/2023/05/sudanese-unable-to-flee-after-dutch-lock-passports-in-abandoned-embassy/': Received status code 403 Forbidden\n",
      "Error occurred for URL 'https://www.france24.com/en/live-news/20230502-rocket-fire-from-gaza-after-palestinian-hunger-striker-dies': Received status code 403 Forbidden\n",
      "Error occurred for URL 'https://www.usnews.com/news/world/articles/2023-05-02/normalising-china-australia-trade-will-take-more-than-a-political-fix': ('Connection aborted.', ConnectionResetError(10054, '遠端主機已強制關閉一個現存的連線。', None, 10054, None))\n",
      "Error occurred for URL 'https://www.france24.com/en/france/20230501-france-under-fire-at-un-for-police-violence-racial-and-religious-discrimination': Received status code 403 Forbidden\n",
      "Error occurred for URL 'https://www.usnews.com/news/world/articles/2023-05-02/ukrainian-forces-shell-village-in-russias-bryansk-region-governor': ('Connection aborted.', ConnectionResetError(10054, '遠端主機已強制關閉一個現存的連線。', None, 10054, None))\n",
      "Received 429 Too Many Requests for URL 'https://www.reddit.com/live/18hnzysb1elcs'. Retrying after 5 seconds...\n",
      "Error occurred for URL 'https://www.wsj.com/articles/from-the-soviet-union-to-putins-russia-american-journalists-have-navigated-clampdowns-fb164832?st=s3926ls5oj63kin': Received status code 403 Forbidden\n",
      "Error occurred for URL 'https://www.france24.com/en/live-news/20230501-turkey-offers-details-of-islamic-state-chief-s-death': Received status code 403 Forbidden\n",
      "Error occurred for URL 'https://www.france24.com/en/europe/20230501-france-s-macron-faces-labour-day-protests-over-divisive-pension-law': Received status code 403 Forbidden\n",
      "Error occurred for URL 'https://www.usnews.com/news/world/articles/2023-05-01/thai-pm-candidate-gives-birth-two-weeks-before-election': ('Connection aborted.', ConnectionResetError(10054, '遠端主機已強制關閉一個現存的連線。', None, 10054, None))\n",
      "Error occurred for URL 'https://www.france24.com/en/africa/20230430-un-chief-sending-envoy-over-unprecedented-sudan-humanitarian-crisis': Received status code 403 Forbidden\n",
      "Received 429 Too Many Requests for URL 'https://www.reddit.com/live/18hnzysb1elcs'. Retrying after 5 seconds...\n",
      "Error occurred for URL 'https://www.reddit.com/live/18hnzysb1elcs': Received status code 429\n",
      "Error occurred for URL 'https://www.france24.com/en/asia-pacific/20230430-uzbekistan-votes-on-constitutional-referendum-to-extend-president-time-in-power': Received status code 403 Forbidden\n",
      "Error occurred for URL 'https://www.france24.com/en/middle-east/20230429-israelis-rally-in-tel-aviv-against-judicial-reform-ahead-of-parliament-session': Received status code 403 Forbidden\n",
      "Error occurred for URL 'https://www.usnews.com/news/world/articles/2023-04-28/kremlin-plays-down-idea-that-russia-is-preparing-a-nuclear-weapons-test': ('Connection aborted.', ConnectionResetError(10054, '遠端主機已強制關閉一個現存的連線。', None, 10054, None))\n",
      "Error occurred for URL 'https://www.independent.co.ug/man-dies-of-ebola-like-symptoms-in-buwenge/': Received status code 403 Forbidden\n",
      "Error occurred for URL 'https://www.france24.com/en/live-news/20230429-pro-putin-bikers-launch-rally-bound-for-berlin': Received status code 403 Forbidden\n",
      "Error occurred for URL 'https://www.france24.com/en/europe/20230429-it-strengthens-anti-establishment-forces-pension-reform-protests-threaten-macron-s-agenda': Received status code 403 Forbidden\n",
      "Received 429 Too Many Requests for URL 'https://www.reddit.com/live/18hnzysb1elcs'. Retrying after 5 seconds...\n",
      "Error occurred for URL 'https://www.reddit.com/live/18hnzysb1elcs': Received status code 429\n",
      "Error occurred for URL 'https://www.france24.com/en/asia-pacific/20230428-china-flies-38-warplanes-combat-drone-near-taiwan': Received status code 403 Forbidden\n",
      "Error occurred for URL 'https://www.nytimes.com/2023/04/28/science/ukraine-nuclear-radiation-sensors.html': Received status code 403 Forbidden\n",
      "Error occurred for URL 'https://www.france24.com/en/live-news/20230429-thousands-protest-against-french-government-s-migration-plans': Received status code 403 Forbidden\n",
      "Error occurred for URL 'https://www.france24.com/en/middle-east/20230428-conservative-women-are-turning-their-backs-on-erdogan-ahead-of-vote': Received status code 403 Forbidden\n",
      "Error occurred for URL 'https://www.msn.com/en-gb/news/world/putin-will-be-arrested-if-he-visits-says-south-african-opposition-leader/ar-AA1atrJlq': Received status code 404\n",
      "Error occurred for URL 'https://nationworldnews.com/brussels-reaches-an-agreement-to-lift-the-veto-on-ukrainian-grain/': Received status code 403 Forbidden\n",
      "Error occurred for URL 'https://www.france24.com/en/americas/20230428-brazil-s-lula-renews-recognition-of-indigenous-land-reserves': Received status code 403 Forbidden\n",
      "Number of errors: 41\n"
     ]
    }
   ],
   "source": [
    "import hashlib\n",
    "import os\n",
    "import requests\n",
    "import time\n",
    "'''\n",
    "number_errors = 0\n",
    "\n",
    "for title, url, score in stories:\n",
    "    output_filename = hashlib.md5(url.encode()).hexdigest()\n",
    "    fullpath = os.path.join(data_folder, output_filename + \".txt\")\n",
    "\n",
    "    try:\n",
    "        response = requests.get(url)\n",
    "        \n",
    "        if response.status_code == 200:\n",
    "            data = response.text\n",
    "            \n",
    "            with open(fullpath, 'w', encoding='UTF-8') as outf:\n",
    "                outf.write(data)\n",
    "        elif response.status_code == 429:\n",
    "            # 处理429 Too Many Requests错误，添加适当的延迟时间后重试\n",
    "            print(f\"Received 429 Too Many Requests for URL '{url}'. Retrying after 5 seconds...\")\n",
    "            time.sleep(5)\n",
    "            response = requests.get(url)\n",
    "            \n",
    "            if response.status_code == 200:\n",
    "                data = response.text\n",
    "                \n",
    "                with open(fullpath, 'w', encoding='UTF-8') as outf:\n",
    "                    outf.write(data)\n",
    "            else:\n",
    "                number_errors += 1\n",
    "                print(f\"Error occurred for URL '{url}': Received status code {response.status_code}\")\n",
    "        elif response.status_code == 403:\n",
    "            # 处理403 Forbidden错误，打印错误信息\n",
    "            number_errors += 1\n",
    "            print(f\"Error occurred for URL '{url}': Received status code 403 Forbidden\")\n",
    "        else:\n",
    "            # 处理其他错误状态码，打印错误信息\n",
    "            number_errors += 1\n",
    "            print(f\"Error occurred for URL '{url}': Received status code {response.status_code}\")\n",
    "\n",
    "    except requests.exceptions.RequestException as e:\n",
    "        number_errors += 1\n",
    "        print(f\"Error occurred for URL '{url}': {e}\")\n",
    "\n",
    "print(f\"Number of errors: {number_errors}\")\n",
    "'''"
   ]
  },
  {
   "cell_type": "code",
   "execution_count": 17,
   "id": "482edae8",
   "metadata": {},
   "outputs": [
    {
     "data": {
      "text/plain": [
       "'\\nfor title, url, score in stories:\\n    output_filename = hashlib.md5(url.encode()).hexdigest() \\n    fullpath = os.path.join(data_folder, output_filename + \".txt\")\\n    try: \\n        response = requests.get(url) \\n        data = response.text \\n        with open(fullpath, \\'w\\') as outf: \\n            outf.write(data)\\n    except Exception as e:\\n        number_errors += 1\\n        # You can use this to view the errors, if you are getting too many:\\n        #raise\\n'"
      ]
     },
     "execution_count": 17,
     "metadata": {},
     "output_type": "execute_result"
    }
   ],
   "source": [
    "'''\n",
    "for title, url, score in stories:\n",
    "    output_filename = hashlib.md5(url.encode()).hexdigest() \n",
    "    fullpath = os.path.join(data_folder, output_filename + \".txt\")\n",
    "    try: \n",
    "        response = requests.get(url) \n",
    "        data = response.text \n",
    "        with open(fullpath, 'w') as outf: \n",
    "            outf.write(data)\n",
    "    except Exception as e:\n",
    "        number_errors += 1\n",
    "        # You can use this to view the errors, if you are getting too many:\n",
    "        #raise\n",
    "'''   "
   ]
  },
  {
   "cell_type": "code",
   "execution_count": 18,
   "id": "d2b19f47",
   "metadata": {},
   "outputs": [
    {
     "data": {
      "text/plain": [
       "41"
      ]
     },
     "execution_count": 18,
     "metadata": {},
     "output_type": "execute_result"
    }
   ],
   "source": [
    "number_errors"
   ]
  },
  {
   "cell_type": "code",
   "execution_count": 3,
   "id": "4f6b45e2",
   "metadata": {},
   "outputs": [
    {
     "name": "stdout",
     "output_type": "stream",
     "text": [
      "00d2afc29f59cc1115f49b5be1e29cb7.txt\n",
      "02a51f38a40cdfc55ad04f59c4669009.txt\n",
      "02e0aa3dc40ef8d3010619cf313ba0cd.txt\n",
      "0431d5578d072f7ec39d2cebef3c3f42.txt\n",
      "0445031924e8d6c83b2aea1e07f8aa8b.txt\n",
      "053427484eeb41333ed3927761828f02.txt\n",
      "058597f4c46b618947337e647db6918f.txt\n",
      "05b5a434a2d962afc50a3ab9a2124f97.txt\n",
      "07594dc96afa1a24f3fe77d57bcc429a.txt\n",
      "077d581e082b1e618161819909ad3c76.txt\n",
      "084ce7b19860659fee9d838525653349.txt\n",
      "08a81f953c330f254c5a6c5c1d1151dd.txt\n",
      "08ce39b16f220fe4e972c423e238306c.txt\n",
      "08dc24cb8ac1ea3272418fa5c79e18a2.txt\n",
      "0913da62b38952358403e422f94d7239.txt\n",
      "091e413aa6eb1edaa37d0776ea172875.txt\n",
      "096d8d396cd42764750f99965341fac3.txt\n",
      "09cc35bbf0012792762db9ea5b4d9d84.txt\n",
      "0a1b9ff3d7ec2bd42ee264e2aff9fb66.txt\n",
      "0a2991893e6f8d7517cadf17cd9d05b1.txt\n",
      "0b8699d278f74cf2e120b31237840ae0.txt\n",
      "0bd7e178979876718939635a1efcec77.txt\n",
      "0c3e1c5f8b7ecc8549fec4c77d543b83.txt\n",
      "0c7b6f10e0ad7db7eeac6639bf79df6f.txt\n",
      "0d83616e9ca44f22c62c6521456c66f2.txt\n",
      "0d98feaf97e1411e541e00a341805887.txt\n",
      "0dbb407ec7bd772b71af904390ee32fb.txt\n",
      "10a8973efea5df2954d11fbe5fe37974.txt\n",
      "1172e7975a1dd60b9049a2a4ecc94cf1.txt\n",
      "11de08e1c2cadda67ceba42d157922be.txt\n",
      "11f1702bad7ef73b5060eddffb8913b5.txt\n",
      "12a5e12f35cfff0392e9d386c6bae453.txt\n",
      "1317250cfc30519a88452ca59252fc70.txt\n",
      "1350bf0d4202b991f37719db5d730b06.txt\n",
      "13e56e56f0c83c3c03f2bf000dc60b94.txt\n",
      "150faa41ae9f5bffe5d22db49c6cb9a8.txt\n",
      "158db806f63ab0b35fdc832a0e353340.txt\n",
      "15e20e84a64880c341a2b2b31270dcb1.txt\n",
      "16d0204e138d8f02a7babfc809f51e70.txt\n",
      "1755c62919bc2d5637454a0b19fb7ac4.txt\n",
      "17bc4a3aaa4c9897c6c6bbae127f994e.txt\n",
      "17c3fa48c8730284816890bb166fd36b.txt\n",
      "187eb346c10925af599d0840e8339fb8.txt\n",
      "18c72e7a00327353e08d2889383659c6.txt\n",
      "18d0baa385c6158f37423b2dcdb9b609.txt\n",
      "18eaff24957934d9d8334bb7f408d3a3.txt\n",
      "1a50c691edb6ade9db68375aeb455103.txt\n",
      "1a6d5fac4e46152e6b4a948e8930b5c7.txt\n",
      "1b2c053a696a4e4102a9d0df091d8b43.txt\n",
      "1bce1c932db5adcef1c05906d5a9d4d8.txt\n",
      "1d0538e2c6b97da11b39c182273b8652.txt\n",
      "1d209d364bed841fbebf9d581927cb50.txt\n",
      "1d3626b08b4175f4999e09159c26c7d1.txt\n",
      "1dc1bf12e9f7afe3f659ca755e547dfa.txt\n",
      "1de96b1777e0140696e0771a4d3100ce.txt\n",
      "1fa4921e8157f68b94106e13c773eb80.txt\n",
      "20a8b136252fbffa597036131cc77598.txt\n",
      "212ace5cbb79b2085f01c6c77fdd093f.txt\n",
      "214f9039055451f53fd435a334fd96f1.txt\n",
      "2232939adf4737e8bf711a8392520650.txt\n",
      "227c66e0220b5ac2a4699e7c9d8c700e.txt\n",
      "23ed3d09c2b2673f198f5b4ee4134e83.txt\n",
      "24100d9ed79dd3c32b36482b6b1aeb5b.txt\n",
      "24c0558e526bbd3302a51e3427e8d897.txt\n",
      "26ea61508ce2f28c84c0ad4a3349bf85.txt\n",
      "28d27136a7417caafa835e8c76447455.txt\n",
      "28e231fdaf0d409b1d38ddb6c553ac1c.txt\n",
      "2a0a1e6b2d59105eb468330ec75aa4b5.txt\n",
      "2a705dc5963ebf2872d9b3ec07e4f4f0.txt\n",
      "2a97361a112a83b89530475b929dc2d9.txt\n",
      "2a9c6a508edc23a27df350277df338e4.txt\n",
      "2a9d6cbf827e0e90cfc4e5169be314ae.txt\n",
      "2ba33645aae9acb32051fc1143c7a373.txt\n",
      "2bad011c40d7392df00caa1740d12de6.txt\n",
      "2cd713d640193b8df3883b7be843886f.txt\n",
      "2d998c4d23a1f373eb5404c226632405.txt\n",
      "2e567a8693e7db2024e4b87f94bd0a50.txt\n",
      "2e757faf6a63d2b5bb289c976b6908be.txt\n",
      "2f8583616ff3ade3ab70bf610f48842f.txt\n",
      "2f85c9b20187a4b670c891a196cd17c6.txt\n",
      "314da14c2847b4c272601312cd73791d.txt\n",
      "31b6c5d42c7158eef270cd6bf4601793.txt\n",
      "3214264e919873d9cf2a7875245cfaeb.txt\n",
      "324b5895003c0157b5a3b33b75349301.txt\n",
      "328522719362a877f737750ea842770c.txt\n",
      "32e2e207a26bac065631e2e4af6c6698.txt\n",
      "32eba1b3ec9aa0bbe174da05f3722596.txt\n",
      "349064fb631062f2f666844ee85f299b.txt\n",
      "35871248a0a2b4979b78a6739d7cf7ca.txt\n",
      "35be5a609140a9a3fa80da52e279e53a.txt\n",
      "35f2590a16edf49f0638bf8cd5105876.txt\n",
      "360a9c6c1ce6573550ebee02b74ddf34.txt\n",
      "3724567eda30f96c8b871410eb4d6a14.txt\n",
      "377bd459708748eb51e5e588d0f3ec57.txt\n",
      "386caaf3710219f3769db55bc2b8cebb.txt\n",
      "3877cb7538c3523364e0f4451dadb6fb.txt\n",
      "393a777993c16b8ae8d1134807de38c7.txt\n",
      "3b6f480f92f0586b3855a6babae04b8f.txt\n",
      "3c7c1bcfd9687ede70d708bafc0d1eeb.txt\n",
      "3cab1c09e704e7b1e8164b24287915ce.txt\n",
      "3d258698195fe9cfbda4b0e2938a6ce3.txt\n",
      "3d82de9d6906097f56dd92c812c43037.txt\n",
      "3da0cfda83f1782291f188c8a158418d.txt\n",
      "3e08568f53727bf74b0d4a0f15bea12f.txt\n",
      "3eeadca532eaec46cd0ae61ca4c1c4c7.txt\n",
      "4101e822b35d6e3ecc43e7c64d4e1341.txt\n",
      "426e5290c0c3cbcb29660965f0c18c99.txt\n",
      "4313172b7b718a8f1487f125a12830a5.txt\n",
      "432bb9dcf0b7d86044a741e898d812f0.txt\n",
      "43469ecfe90c20b68a226f3c7b6fb616.txt\n",
      "43825e5bc2463b8fa3c48d9aafb9296f.txt\n",
      "44203716a78feca54b63b56b337e567f.txt\n",
      "44c6f113a078f1df9931b60286f0d9fe.txt\n",
      "44ff7310b73c041e2b768aaa7532adf0.txt\n",
      "450e94bd2b7a97093405ca4e95308710.txt\n",
      "455e85eba7c072aab86d9970c242fc62.txt\n",
      "45644e4bea9cc0a84a524d8d1f756d79.txt\n",
      "45a214b54d95677cdc861273d8453893.txt\n",
      "4800004a70c681e87599a8916165daf9.txt\n",
      "48211c8068c8fe7f22dcf6fab2881b35.txt\n",
      "4838380822f296d4f9917f5d259b1cc3.txt\n",
      "486b8a8c2821e1bd23b7e51e77cf609b.txt\n",
      "48a649978e1367b8432f61aaffabe5ae.txt\n",
      "4a9d0432c96a3e948bec2c9b154f94b9.txt\n",
      "4b16480162a1a3a270facc16b85c5119.txt\n",
      "4b3154b2ed22abc1fa95eaed039b11ff.txt\n",
      "4c12ccd3031011a9bd67be4bbacfac84.txt\n",
      "4c5439ed0b2829d6f408248e40ef5629.txt\n",
      "4df65e8ccc00ebb024ccc00ee2772ee2.txt\n",
      "4e8a582347f8824dfa7f353e27ab183e.txt\n",
      "4ead0d14a877a6ef26725eaf12d24c84.txt\n",
      "4eff45161f6fe4aabf365000ff73245e.txt\n",
      "4f3e5fa1888d6c6ae8de643dbbae1cde.txt\n",
      "4f651aa1e0d85efbee0e95267c4161ab.txt\n",
      "4f7259133d30e14caf68742b0a9af915.txt\n",
      "4f8b355f6f377b6c280e6f63dc2cceee.txt\n",
      "4fc369e26df6e7142456ea55370df0b2.txt\n",
      "500191a7457852d9ae261d0f15097a94.txt\n",
      "5019ddddfc321506e902408f62d4670b.txt\n",
      "5088d5ced5a9f0e001506f5db91fd093.txt\n",
      "523bb6464aa8090a7596435833e07b19.txt\n",
      "523f2d9cd82e0d9e95ff4def087f1f43.txt\n",
      "52952631f4c12723627df2aea9e7f366.txt\n",
      "52ba406c26b1a7878074e0e2cb7d92b9.txt\n",
      "55dfaf72f732562dc495184737736c24.txt\n",
      "56cade763edfbe71248ecdc85cb036de.txt\n",
      "56d3031e8be575aa960ec977879cc9fa.txt\n",
      "571891296bc35d7d26aea865079d8e2b.txt\n",
      "5823c34828ef8c54e5525b203add74fd.txt\n",
      "58cc7deb328271f7060e42c0bc195749.txt\n",
      "596a635b1c008c52cdf95341685d87a4.txt\n",
      "5a3af6a2294773f56b4b61d4409d7be1.txt\n",
      "5a6febc6b35490763d349e3e0e066424.txt\n",
      "5c333a95a8c9efab264dd366cd956d6c.txt\n",
      "5c6f35e7d8501673a3399f922a5f6427.txt\n",
      "5c80721e5e8521b75e2dc1f1cd1572dc.txt\n",
      "5cb4544be0d3811fdc1a1cd300a5485b.txt\n",
      "5cff51aecce37d8a1b261b650f30c1bb.txt\n",
      "5d799291fa64b4958fff1d975a43fefb.txt\n",
      "5e29820387fc4dc9145c2fbe187a5711.txt\n",
      "5ee5b97a8e19bbd008edba7ecedba151.txt\n",
      "5f1d385fa8d7d670684f30a552b6a2f9.txt\n",
      "6178deeb708166b8dbb963c4ce782bbb.txt\n",
      "6207cb8696bbb80b46f9ec3a2209e3c3.txt\n",
      "620c53c7d98efbc270cfe54c01ba592c.txt\n",
      "6342f46d648996d2557848de7d26e49b.txt\n",
      "634f49c7e30edcd651224ed8abb03379.txt\n",
      "636369039fd4e400cd0caae4b4966f05.txt\n",
      "637cb61f99e1a3c6d54b9021a3a8387a.txt\n",
      "64aeeadb62b42e3ae9fdff9585aee22d.txt\n",
      "675c1e6064c00882be67e9a8f69cf1d8.txt\n",
      "67bf2ab4320a2dd47204cc5c68273ea8.txt\n",
      "67fefb7d6f477076127238934136f911.txt\n",
      "6836144450b8a10200b222d3811cc634.txt\n",
      "68561523ff2b359a89870623bb297fc8.txt\n",
      "687e8b70b70aa8011402722600a062a8.txt\n",
      "690b01eea725d8592bac5b874242ebfd.txt\n",
      "6c3df502bd144a4ec4050cd6050f2875.txt\n",
      "6c5bbdb31e022f29c411c39a4bbfca75.txt\n",
      "6d0c1341dc6a05fb1d8c774fe6339a7f.txt\n",
      "6d0eb011ed4d688d2ca9b1918608d9c2.txt\n",
      "6d551f97b2a3cd8518537023a11b8d1e.txt\n",
      "6ebecf915a3cdbe1868ccba7f7c0c977.txt\n",
      "6f34f2289bc45e7dceac5788eb038c07.txt\n",
      "6fa34b8c5f73229c1213277c200ae1c6.txt\n",
      "6fc1baf07e0940aba566b9e9865a5699.txt\n",
      "702a68689b9979f0eff1995806a9e450.txt\n",
      "706a4a605c594944ae6af0f7d4c4cf44.txt\n",
      "70926755b2a08dabb25056931e8c3085.txt\n",
      "71df8daf32b775ba6a33879a33d16993.txt\n",
      "71fb64ef43643cca4965beabb5979169.txt\n",
      "720ade3ce2bcfa7d48161e5306f2c597.txt\n",
      "727038fb97887fd9b0d74acda88a6c84.txt\n",
      "73d1bd29c43d118604a0dfb394720095.txt\n",
      "749883cb3cd560c4e1c6c4f25a2619b9.txt\n",
      "75c47bbcdb2ff951f8eb11d99a0b79db.txt\n",
      "75da45b08c4e0e5df7df481650b01bfd.txt\n",
      "75f6ce530eae7a173d0f97769e1f3211.txt\n",
      "7602a53dfc1be84d3aee1c50273d88d3.txt\n",
      "76b91f0830648e0a9ef9ac1f0402d773.txt\n",
      "776166cbd5b4d4d8f8583403e44a3f21.txt\n",
      "77a4879b0bee066a13ad5451ece4e96a.txt\n",
      "784272a414929dea3e450734a41e2bf7.txt\n",
      "784a6fd0cdfbdacd325b51bb65d95926.txt\n",
      "7957baabfe78089e7a836c8b80a6bdec.txt\n",
      "798a98d6d4b05f2df42fa3db31448832.txt\n",
      "79d36657c1225fba0ea2f74009e7471d.txt\n",
      "7a329d5edae16fb720c87b9077a232b1.txt\n",
      "7a7750ca989aecbf594ec698502868ba.txt\n",
      "7c2bef37d141b3525019792f97a7cb04.txt\n",
      "7d9f7c53d1a3358c849b8c5198eed467.txt\n",
      "7deebbb8eddb2355dbc16ecc937f09fe.txt\n",
      "7e3e391df97f51649fb417cee8b903e4.txt\n",
      "7e6560305e66bf2a8fac4f03de450670.txt\n",
      "8050af02eeeb76d06514c8b3aa761b82.txt\n",
      "8071af8dd2652927b10e1580f8221564.txt\n",
      "80bf9331f490fed81356fbe4ebf9047f.txt\n",
      "8133fda2442c89509f62954c34b1cca5.txt\n",
      "849da49319fcf0c5d5f2ff11b71805ea.txt\n",
      "84f9cb52306f4758cdf70d0837ba8ee8.txt\n",
      "84fdfc4d241e45057d9355e60f167120.txt\n",
      "860b1f3ea3fefb90616eb1e365412942.txt\n",
      "86f72812bcdd081e258b3bb6282f1559.txt\n",
      "870fd3a9722045be9ec312a4d07500ca.txt\n",
      "87e714ca26e868fdd22ba9278640d482.txt\n",
      "8a32a303a806d134628dd4973f9220dc.txt\n",
      "8a86cb6ea360cea69a10e4decf301123.txt\n",
      "8af9306a2f52a19d7cc3a13a71e9d1f9.txt\n",
      "8be8be443c5a66845a59ef29ecb61b16.txt\n",
      "8d6233f4d3bcbc78816e3861b03b98de.txt\n",
      "8d6b51e07ae8e9d03f5a783e86debaaa.txt\n",
      "8d6e63601ed11079b841668e3e48274d.txt\n",
      "8d99268c46b9ba820e646f10b97cfee8.txt\n",
      "8dba42d3ee47111350d3c15ca4abd1e9.txt\n",
      "8e299f513be64fe953d18cfa66e399d3.txt\n",
      "8e2d988d6d9b570b55ec590267130928.txt\n",
      "917b2e765f4925c6543dbb1fd89f053a.txt\n",
      "91f462eaccc530371e4f1816b4f95602.txt\n",
      "9298383228d8db15190b8767b2a0ada2.txt\n",
      "92e0e7e84f0fe2df77726471eabed450.txt\n",
      "933182ca9e3399d70df0b1c69359cc18.txt\n",
      "93479038403de0b1491fc7bae9e7b2f4.txt\n",
      "93790aaa23cca0bb1b94c0cc7f032432.txt\n",
      "93fc96f8833ffd574f4f7a15837e4ff5.txt\n",
      "940ced97700086da691f41217b4eeaa7.txt\n",
      "94a448073fd11c623b20738e45bb06bb.txt\n",
      "9595f53fea23c3ccb7f80f776c6a73e3.txt\n",
      "95ebad57a8de75b087454acbc68bacb6.txt\n",
      "96802a3973577e682dcacde6f54fad16.txt\n",
      "9692b7a02ed51aaef0cc0bdca604f9ee.txt\n",
      "978ddfb08a94de9871fc444b6abe2dcf.txt\n",
      "98b068c1dee375aef2b0074b318cd5b5.txt\n",
      "98e3cc830deb23c4c312058584e24394.txt\n",
      "99c287cc225d018b04465761d9081cf9.txt\n",
      "9a8384ea75d1de6a496ea4561f6fa45d.txt\n",
      "9b60613eb7e12efd71c20f1d48fb29f2.txt\n",
      "9b63c9d9c234a399565589e0e9a49469.txt\n",
      "9b6d7f4b0f820d1e55d9152d89824734.txt\n",
      "9bb68793df649926d1570abab3de8f3c.txt\n",
      "9cbaf8554485b8e8f971b3345a5c8e8a.txt\n",
      "9cde930f7e5c6c3ecbe25a8249febe22.txt\n",
      "9daed5eab3397923f51819d7c1231973.txt\n",
      "9f312a1fb8287b34fc404966a527bdcc.txt\n",
      "9f6c6fe9a40e915a454b2863ed9f04fe.txt\n",
      "9f8333ccade206ea01ddc886266e8725.txt\n",
      "9fd61b7121f574bd3251e866ba0f35e7.txt\n",
      "a067b5923728297584e5ba337f9718d7.txt\n",
      "a0be7a63e6fa81de90fe3e1ee1a43b45.txt\n",
      "a10634efb644593f0fcd4841c2457f40.txt\n",
      "a202e9834ee41a1d8b93d2d22f9cda0f.txt\n",
      "a2117c9bd540d8f9c9fbfdc7ccafb445.txt\n",
      "a2e90bd30bb06ed40d3dfe5ef83c2b89.txt\n",
      "a2f755bc470f376734ece3a3eeeca317.txt\n",
      "a412bf16a8dcedd110d466d037aa116f.txt\n",
      "a4fde32e427a15feea4fd886f624d33c.txt\n",
      "a53168065d4ab0dc73142ea921c0956f.txt\n",
      "a58e7db9804b65f7dd017d626667d9c4.txt\n",
      "a599585735dfa2c1a68fc526a81d7a0e.txt\n",
      "a641e1a34a833c0223ac61fc999770ea.txt\n",
      "a671807914c6fd7a7703d512bd88a430.txt\n",
      "a6995935cf18043199f7b4ff81498dd6.txt\n",
      "a6ef30755c8c64a54f6f0445d0c6edfb.txt\n",
      "a7018c1623cac50b863ca75a63066e0e.txt\n",
      "a78a0250a0b5d47b6b51facc24512434.txt\n",
      "a8fe3630aa277c5dbc2f0f8baf239c97.txt\n",
      "a958d941c213f5fbb45f64c72a7b6621.txt\n",
      "aa0da0eee9e1795037d1ac5f6b3e4f0f.txt\n",
      "aa62a3b100fc20b4596cd73ac72ec524.txt\n",
      "ab7424c95c58f55a571d10a735a6aa3d.txt\n",
      "aba39cfe7a69132f9aa9b820d261b442.txt\n",
      "abaf41f27612c4299e0f8f6479bb673b.txt\n",
      "abfd4c71996163566a5a1b8b9d796399.txt\n",
      "ad39ab00bc04f8f67c94b19b05335a40.txt\n",
      "adcf7944e5d8b2e863464ea57a6033a8.txt\n",
      "afa65bd19fe1d3b81e5d126b11aa3a4d.txt\n",
      "b02ae6c148ba2bf89ce3ace6014fe840.txt\n",
      "b07da0c95c9497890c4d6d6610d1f2b6.txt\n",
      "b09be347a67809145d1319d88522d3c5.txt\n",
      "b16b750efc207a046679d78f4dd71051.txt\n",
      "b18614c7b0acd98ef56103d0d8812431.txt\n",
      "b3ad5e3ed569eddd30a8b68cbdf14f8e.txt\n",
      "b46259bf87514ced9b2dc12e5b3f7c91.txt\n",
      "b580e622fe06fcfcabf503f5f380ed30.txt\n",
      "b66092a8482cd1cbb230db0f360f6130.txt\n",
      "b6adf8a9ebc3b173bc8c6223606159df.txt\n",
      "b6d0176383a402e50d723f4cbf27870d.txt\n",
      "b73a4f1c71999b4abc8c9bf314c2787e.txt\n",
      "b75290ee811b9158d1ca34efc22b67ac.txt\n",
      "b7cf07eb0847268d1de767f54134ac04.txt\n",
      "b7f00381844485a2184f6c8d6e9c1662.txt\n",
      "b8aa42a31007a1a1e29afeb260419768.txt\n",
      "b8b212d723963b5b819438a7b650ea88.txt\n",
      "b8fb4d6c4274378c6e69c8acbea3ede1.txt\n",
      "b953636e84ecf9f2511bcf47de41a684.txt\n",
      "b9b597fef0f8452c26954c66f3ee1716.txt\n",
      "bad15c6e8e804155fd0e3ae81ddc369f.txt\n",
      "bc3ab8ea2565d1ede2300ed9a91d9630.txt\n",
      "bc3e90105ea471307041555c207c31e9.txt\n",
      "bc465c8c056aad6cff690f7be287e4af.txt\n",
      "bd22f1f8b28d39565cf18ea5e1ea09ee.txt\n",
      "bd5e0ce19bc8fbd20f72bd6bc7f5fc07.txt\n",
      "bdf33c06ab00fa3daf34576751bec825.txt\n",
      "be63ac4286109f2d496dd0f2b60934b3.txt\n",
      "becb688e18c6657678db9538b3108895.txt\n",
      "bf81bbf3a3a7be49d41747dea3f0ae31.txt\n",
      "bfcc833bf0b0b12926da14cd10107f6b.txt\n",
      "bffb2905fa32199768b04037e49fd9ab.txt\n",
      "c02c9950082daddb3a25e6184f46be44.txt\n",
      "c0766b853e0aad0b664bbd8a872a0825.txt\n",
      "c0c44d6717234d6a7ae39ed6144ded7b.txt\n",
      "c154d2958b5db132e4b9645a7aca8645.txt\n",
      "c1d7c99310c9809d7af24be03d002093.txt\n",
      "c293e2df2fddad83977c59a80c9bf205.txt\n",
      "c296dbfd2e2a1e3bb7c2a3240940fc72.txt\n",
      "c2c9d7d7bf20efd93cbc7ec732281545.txt\n",
      "c2dd47c02b955eba99af37f25e7d4e00.txt\n",
      "c2f65af43f43962823be0662fedb3692.txt\n",
      "c3ee4839b2095ec9c30428960a7d4b08.txt\n",
      "c41b8d256ec3180fdf2a0bd9e1fb3b0e.txt\n",
      "c4f798ed10d4a3d803fc971dc5589df0.txt\n",
      "c505fbc46890d610e391d72f29a04997.txt\n",
      "c5ca0b712d516b29ffed5de70dd8c0b1.txt\n",
      "c651e5568cb928c72435c0cc57197635.txt\n",
      "c6a923c7b956c2cdcc2609ba12cd68ef.txt\n",
      "c79079a561e3cb2f96c38ec53f3adc43.txt\n",
      "c825b166c422865d7acc7b1305137503.txt\n",
      "c98e408f45b45598c40732b148a25abb.txt\n",
      "c9c60d5cdc24ad7928c91e3c9590ef89.txt\n",
      "ca082d87f43556d1cb78961e6dcf3686.txt\n",
      "ca1710498fe91f58406e1608454e3fce.txt\n",
      "ca5bc58dfdeaa7886c5d8e48c813147b.txt\n",
      "ca891b642045f83ac7e0dfcabab41901.txt\n",
      "cbbaf4265c5ca31b8bf448572e0382f3.txt\n",
      "cbfb4fc1f6c12f411164ecf130d2609c.txt\n",
      "cc28576389044eef7325fb7e5ed260c3.txt\n",
      "cc345be48d40213811acdd24ebdb18c4.txt\n",
      "cd03fef682106d4ba0178d568c4d61e8.txt\n",
      "cdcf10be29ea919551a7ea119f06305d.txt\n",
      "cf7019f7b2f0d4fdef386a83ede738b7.txt\n",
      "d0123c9afdc888274592307126949212.txt\n",
      "d1b641003db404b9edd4f6f2cca85596.txt\n",
      "d205f7bc2ca0e26e5ec5da4335caeea0.txt\n",
      "d27aa49a923daaf8060272e7679b6c16.txt\n",
      "d63b551b0edfc4ec9aaeae24aad4c372.txt\n",
      "d6434d95cc5ae7aa521e745b24db0cf5.txt\n",
      "d6c6f50cf40944e276aa8022ce027812.txt\n",
      "d6f34b1f0831f8db012fafe1d36bb5f1.txt\n",
      "d7ac3e8ebe2450f2a6a3fcaf04f3095d.txt\n",
      "d7e19fd4a21f798cbec25b679cd5b21f.txt\n",
      "d8d49170e8b92ba7384d6cf4eec6f4d0.txt\n",
      "d8d8d50b9c68db54674432815bf8c214.txt\n",
      "d91d65ac38e4b7dbba7acb64adf98236.txt\n",
      "da64aeacf594abda35e03bde24ca930b.txt\n",
      "db0c64e19504e25cc6c38b7c984942c4.txt\n",
      "db84688be622e6c02f7534ac289820df.txt\n",
      "dbe389fe875363287a239fe5921d03ca.txt\n",
      "dca16dd014a8b2ddd6564e364c0e98a4.txt\n",
      "dd51323231b4b3a264d2dbef13878abe.txt\n",
      "ddb07675d5dfbd234e7936ac15b8f8bf.txt\n",
      "ddcbce2fd4bfcfce5227af4e841612d7.txt\n",
      "ddd44fe8e78a1ffe8ed95a8c561734b9.txt\n",
      "ddff1c41ddef4f28efddec66d949a6ff.txt\n",
      "de78632437f25e0f706c656661b78a98.txt\n",
      "de82c6bf134ec3fd39954dffdf2931b9.txt\n",
      "dee1c1a3c39a3cbed07059d93bb1bcf4.txt\n",
      "e04a61da0cd16e61233947c6b174aef7.txt\n",
      "e09f27d1dd195ee7d63b3a953ef39507.txt\n",
      "e0acc4c0ab58a2e3b9fd7fccede069e5.txt\n",
      "e1eb61d9aadddb65dcc7f498b1e99be5.txt\n",
      "e20d02108d0d7939b84a0bfb8d5f12b0.txt\n",
      "e243f533baed632792d0c58b4be4b8c9.txt\n",
      "e28093da75aa5b5cf93464d41a7bb734.txt\n",
      "e311ee834cb10cfb6b284bfa9428a631.txt\n",
      "e32fcd4379aace51f1d5550af6be6ef2.txt\n",
      "e3e439ab437b9f349188721dfe814e9e.txt\n",
      "e4cc995fd9e04a9ebb931b91f27e0fd0.txt\n",
      "e4fcd0e70d1a96f182e100a7b764655e.txt\n",
      "e62ce7e3ca56b59874f811bdf0314ae6.txt\n",
      "e6512d8f670bc23cda3f3fe146d439d7.txt\n",
      "e7167d1e3982dfd9d76e84688588977f.txt\n",
      "e7493186e3921c2975286df8d264b190.txt\n",
      "e8b778049a72f86e6c22f6eb82a34eb4.txt\n",
      "e9520503f73d985508708a482b56b7e6.txt\n",
      "e99cf95296b382c1fed0146fecdb9512.txt\n",
      "ea786264790cd7065f8be9f7fdd086fc.txt\n",
      "eacfc73c9489d83d2b9d98629196eb2d.txt\n",
      "eadd010fd54c7182410ed33c64fbb255.txt\n",
      "eb56929880b83324c735889ce414daa5.txt\n",
      "ed0d78937af9bbc48fa9ae25fd4fc3c6.txt\n",
      "ed68f1b547fc3e1b4caf2db4f58042fa.txt\n",
      "ef803964a92d872e81de7edc2c7d4d68.txt\n",
      "efc90b506018c4ea7323ed2e35aa763c.txt\n",
      "f0023870b37cf4f42ff87e7e67f945b4.txt\n",
      "f0a3088bd8b583d8a343369c16645114.txt\n",
      "f0bf084c2586625f4b37d74630012e42.txt\n",
      "f13c2eb9b2dd989b673d3fe596c4b5cf.txt\n",
      "f176da5699ae1196f6e5f926cc27b1e7.txt\n",
      "f35cf9b8a46aecdad891a467dfc6571d.txt\n",
      "f39ac68fe682ea834a48ad21badde421.txt\n",
      "f463df0c5eb7f8f98dfd0f6ce0801eba.txt\n",
      "f48bd8e0d1a0758d0ed385f81ef0f841.txt\n",
      "f569d0efe0272cea1a37fff015909d12.txt\n",
      "f68681e43007e9062a78a95551638443.txt\n",
      "f68829340f57c1715134d3e90d1a2d90.txt\n",
      "f71023b1c67b707edfe95e9b206e5761.txt\n",
      "f8b4803791ff7a3562098baeb84cc1bf.txt\n",
      "fa0550f8b0fee8e58b6f2c0ebdbd2fc5.txt\n",
      "faa0958cd32706cc8c43542c0e3e2380.txt\n",
      "fb053c6b05159f0a18e74f5400b34019.txt\n",
      "fb17eb6a2d759fd2fc4bbe741258463f.txt\n",
      "fcc0cc0f911b5abcca7f17bb9a1437da.txt\n",
      "fe0a658bace0c1600cf2225739e45d67.txt\n",
      "fe5edf9741b3ef9986758c5d04b054ee.txt\n",
      "ff08e15872096033ec570edd81d1fa10.txt\n"
     ]
    }
   ],
   "source": [
    "import os\n",
    "\n",
    "#data_folder = os.path.join(\"data\", \"websites\", \"raw\")\n",
    "\n",
    "# 列出data_folder中的所有文件和子文件夹\n",
    "folder_contents = os.listdir(data_folder)\n",
    "\n",
    "# 打印所有内容的名称\n",
    "for content_name in folder_contents:\n",
    "    print(content_name)\n"
   ]
  },
  {
   "cell_type": "code",
   "execution_count": 21,
   "id": "9e556151",
   "metadata": {},
   "outputs": [
    {
     "name": "stdout",
     "output_type": "stream",
     "text": [
      "Defaulting to user installation because normal site-packages is not writeable\n",
      "Collecting lxml\n",
      "  Downloading lxml-4.9.2-cp39-cp39-win_amd64.whl (3.9 MB)\n",
      "     ---------------------------------------- 3.9/3.9 MB 5.5 MB/s eta 0:00:00\n",
      "Installing collected packages: lxml\n",
      "Successfully installed lxml-4.9.2\n",
      "Note: you may need to restart the kernel to use updated packages.\n"
     ]
    },
    {
     "name": "stderr",
     "output_type": "stream",
     "text": [
      "\n",
      "[notice] A new release of pip available: 22.3 -> 23.1.2\n",
      "[notice] To update, run: python.exe -m pip install --upgrade pip\n"
     ]
    }
   ],
   "source": [
    "#pip install lxml"
   ]
  },
  {
   "cell_type": "code",
   "execution_count": 9,
   "id": "2eeec53c",
   "metadata": {},
   "outputs": [],
   "source": [
    "filenames = [os.path.join(data_folder, filename) for filename in os.listdir(data_folder)]\n",
    "text_output_folder = os.path.join(\"data\", \"websites\", \"textonly\")\n",
    "\n",
    "import lxml\n",
    "from lxml import etree\n",
    "\n",
    "skip_node_types = [\"script\", \"head\", \"style\", etree.Comment]"
   ]
  },
  {
   "cell_type": "code",
   "execution_count": 10,
   "id": "b5d9adf3",
   "metadata": {},
   "outputs": [],
   "source": [
    "parser = etree.HTMLParser()\n",
    "\n",
    "def get_text_from_file(filename):\n",
    "    with open(filename) as inf:\n",
    "        html_tree = etree.parse(inf, parser) \n",
    "    return get_text_from_node(html_tree.getroot())"
   ]
  },
  {
   "cell_type": "code",
   "execution_count": 11,
   "id": "31de98df",
   "metadata": {},
   "outputs": [],
   "source": [
    "def get_text_from_node(node):\n",
    "    if len(node) == 0: \n",
    "        # No children, just return text from this item\n",
    "        if node.text: \n",
    "            return node.text \n",
    "        else:\n",
    "            return \"\"\n",
    "    else:\n",
    "        # This node has children, return the text from it:\n",
    "        results = (get_text_from_node(child)\n",
    "                   for child in node\n",
    "                   if child.tag not in skip_node_types)\n",
    "    result = str.join(\"\\n\", (r for r in results if len(r) > 1))\n",
    "    if len(result) >= 100:\n",
    "        return result\n",
    "    else:\n",
    "        return \"\""
   ]
  },
  {
   "cell_type": "code",
   "execution_count": 12,
   "id": "7f4ba8e3",
   "metadata": {},
   "outputs": [
    {
     "ename": "UnicodeDecodeError",
     "evalue": "'cp950' codec can't decode byte 0xe2 in position 7337: illegal multibyte sequence",
     "output_type": "error",
     "traceback": [
      "\u001b[1;31m---------------------------------------------------------------------------\u001b[0m",
      "\u001b[1;31mUnicodeDecodeError\u001b[0m                        Traceback (most recent call last)",
      "Input \u001b[1;32mIn [12]\u001b[0m, in \u001b[0;36m<cell line: 1>\u001b[1;34m()\u001b[0m\n\u001b[0;32m      1\u001b[0m \u001b[38;5;28;01mfor\u001b[39;00m filename \u001b[38;5;129;01min\u001b[39;00m os\u001b[38;5;241m.\u001b[39mlistdir(data_folder):\n\u001b[1;32m----> 2\u001b[0m     text \u001b[38;5;241m=\u001b[39m \u001b[43mget_text_from_file\u001b[49m\u001b[43m(\u001b[49m\u001b[43mos\u001b[49m\u001b[38;5;241;43m.\u001b[39;49m\u001b[43mpath\u001b[49m\u001b[38;5;241;43m.\u001b[39;49m\u001b[43mjoin\u001b[49m\u001b[43m(\u001b[49m\u001b[43mdata_folder\u001b[49m\u001b[43m,\u001b[49m\u001b[43m \u001b[49m\u001b[43mfilename\u001b[49m\u001b[43m)\u001b[49m\u001b[43m)\u001b[49m \n\u001b[0;32m      3\u001b[0m     \u001b[38;5;28;01mwith\u001b[39;00m \u001b[38;5;28mopen\u001b[39m(os\u001b[38;5;241m.\u001b[39mpath\u001b[38;5;241m.\u001b[39mjoin(text_output_folder, filename), \u001b[38;5;124m'\u001b[39m\u001b[38;5;124mw\u001b[39m\u001b[38;5;124m'\u001b[39m, encoding\u001b[38;5;241m=\u001b[39m\u001b[38;5;124m'\u001b[39m\u001b[38;5;124mUTF-8\u001b[39m\u001b[38;5;124m'\u001b[39m) \u001b[38;5;28;01mas\u001b[39;00m outf: \n\u001b[0;32m      4\u001b[0m         outf\u001b[38;5;241m.\u001b[39mwrite(text)\n",
      "Input \u001b[1;32mIn [10]\u001b[0m, in \u001b[0;36mget_text_from_file\u001b[1;34m(filename)\u001b[0m\n\u001b[0;32m      3\u001b[0m \u001b[38;5;28;01mdef\u001b[39;00m \u001b[38;5;21mget_text_from_file\u001b[39m(filename):\n\u001b[0;32m      4\u001b[0m     \u001b[38;5;28;01mwith\u001b[39;00m \u001b[38;5;28mopen\u001b[39m(filename) \u001b[38;5;28;01mas\u001b[39;00m inf:\n\u001b[1;32m----> 5\u001b[0m         html_tree \u001b[38;5;241m=\u001b[39m \u001b[43metree\u001b[49m\u001b[38;5;241;43m.\u001b[39;49m\u001b[43mparse\u001b[49m\u001b[43m(\u001b[49m\u001b[43minf\u001b[49m\u001b[43m,\u001b[49m\u001b[43m \u001b[49m\u001b[43mparser\u001b[49m\u001b[43m)\u001b[49m \n\u001b[0;32m      6\u001b[0m     \u001b[38;5;28;01mreturn\u001b[39;00m get_text_from_node(html_tree\u001b[38;5;241m.\u001b[39mgetroot())\n",
      "File \u001b[1;32msrc\\lxml\\etree.pyx:3541\u001b[0m, in \u001b[0;36mlxml.etree.parse\u001b[1;34m()\u001b[0m\n",
      "File \u001b[1;32msrc\\lxml\\parser.pxi:1900\u001b[0m, in \u001b[0;36mlxml.etree._parseDocument\u001b[1;34m()\u001b[0m\n",
      "File \u001b[1;32msrc\\lxml\\parser.pxi:1920\u001b[0m, in \u001b[0;36mlxml.etree._parseFilelikeDocument\u001b[1;34m()\u001b[0m\n",
      "File \u001b[1;32msrc\\lxml\\parser.pxi:1814\u001b[0m, in \u001b[0;36mlxml.etree._parseDocFromFilelike\u001b[1;34m()\u001b[0m\n",
      "File \u001b[1;32msrc\\lxml\\parser.pxi:1204\u001b[0m, in \u001b[0;36mlxml.etree._BaseParser._parseDocFromFilelike\u001b[1;34m()\u001b[0m\n",
      "File \u001b[1;32msrc\\lxml\\parser.pxi:618\u001b[0m, in \u001b[0;36mlxml.etree._ParserContext._handleParseResultDoc\u001b[1;34m()\u001b[0m\n",
      "File \u001b[1;32msrc\\lxml\\parser.pxi:724\u001b[0m, in \u001b[0;36mlxml.etree._handleParseResult\u001b[1;34m()\u001b[0m\n",
      "File \u001b[1;32msrc\\lxml\\etree.pyx:334\u001b[0m, in \u001b[0;36mlxml.etree._ExceptionContext._raise_if_stored\u001b[1;34m()\u001b[0m\n",
      "File \u001b[1;32msrc\\lxml\\parser.pxi:370\u001b[0m, in \u001b[0;36mlxml.etree._FileReaderContext.copyToBuffer\u001b[1;34m()\u001b[0m\n",
      "\u001b[1;31mUnicodeDecodeError\u001b[0m: 'cp950' codec can't decode byte 0xe2 in position 7337: illegal multibyte sequence"
     ]
    }
   ],
   "source": [
    "'''\n",
    "for filename in os.listdir(data_folder):\n",
    "    text = get_text_from_file(os.path.join(data_folder, filename)) \n",
    "    with open(os.path.join(text_output_folder, filename), 'w', encoding='UTF-8') as outf: \n",
    "        outf.write(text)\n",
    "'''"
   ]
  },
  {
   "cell_type": "code",
   "execution_count": 13,
   "id": "90d1928c",
   "metadata": {},
   "outputs": [],
   "source": [
    "for filename in os.listdir(data_folder):\n",
    "    filepath = os.path.join(data_folder, filename)\n",
    "    with open(filepath, 'r', encoding='UTF-8') as f:\n",
    "        text = f.read()\n",
    "    with open(os.path.join(text_output_folder, filename), 'w', encoding='UTF-8') as outf:\n",
    "        outf.write(text)"
   ]
  },
  {
   "cell_type": "code",
   "execution_count": 14,
   "id": "3c50eaf7",
   "metadata": {},
   "outputs": [],
   "source": [
    "from sklearn.cluster import KMeans\n",
    "from sklearn.feature_extraction.text import TfidfVectorizer\n",
    "from sklearn.pipeline import Pipeline"
   ]
  },
  {
   "cell_type": "code",
   "execution_count": 15,
   "id": "0980c904",
   "metadata": {},
   "outputs": [
    {
     "ename": "UnicodeDecodeError",
     "evalue": "'cp950' codec can't decode byte 0xe2 in position 15529: illegal multibyte sequence",
     "output_type": "error",
     "traceback": [
      "\u001b[1;31m---------------------------------------------------------------------------\u001b[0m",
      "\u001b[1;31mUnicodeDecodeError\u001b[0m                        Traceback (most recent call last)",
      "Input \u001b[1;32mIn [15]\u001b[0m, in \u001b[0;36m<cell line: 3>\u001b[1;34m()\u001b[0m\n\u001b[0;32m      1\u001b[0m n_clusters \u001b[38;5;241m=\u001b[39m \u001b[38;5;241m10\u001b[39m \n\u001b[0;32m      2\u001b[0m pipeline \u001b[38;5;241m=\u001b[39m Pipeline([(\u001b[38;5;124m'\u001b[39m\u001b[38;5;124mfeature_extraction\u001b[39m\u001b[38;5;124m'\u001b[39m, TfidfVectorizer(max_df\u001b[38;5;241m=\u001b[39m\u001b[38;5;241m0.4\u001b[39m)),(\u001b[38;5;124m'\u001b[39m\u001b[38;5;124mclusterer\u001b[39m\u001b[38;5;124m'\u001b[39m, KMeans(n_clusters\u001b[38;5;241m=\u001b[39mn_clusters))])\n\u001b[1;32m----> 3\u001b[0m documents \u001b[38;5;241m=\u001b[39m [\u001b[38;5;28mopen\u001b[39m(os\u001b[38;5;241m.\u001b[39mpath\u001b[38;5;241m.\u001b[39mjoin(text_output_folder, filename))\u001b[38;5;241m.\u001b[39mread() \u001b[38;5;28;01mfor\u001b[39;00m filename \u001b[38;5;129;01min\u001b[39;00m os\u001b[38;5;241m.\u001b[39mlistdir(text_output_folder)]\u001b[38;5;66;03m#\u001b[39;00m\n\u001b[0;32m      5\u001b[0m pipeline\u001b[38;5;241m.\u001b[39mfit(documents)\n\u001b[0;32m      6\u001b[0m labels \u001b[38;5;241m=\u001b[39m pipeline\u001b[38;5;241m.\u001b[39mpredict(documents)\n",
      "Input \u001b[1;32mIn [15]\u001b[0m, in \u001b[0;36m<listcomp>\u001b[1;34m(.0)\u001b[0m\n\u001b[0;32m      1\u001b[0m n_clusters \u001b[38;5;241m=\u001b[39m \u001b[38;5;241m10\u001b[39m \n\u001b[0;32m      2\u001b[0m pipeline \u001b[38;5;241m=\u001b[39m Pipeline([(\u001b[38;5;124m'\u001b[39m\u001b[38;5;124mfeature_extraction\u001b[39m\u001b[38;5;124m'\u001b[39m, TfidfVectorizer(max_df\u001b[38;5;241m=\u001b[39m\u001b[38;5;241m0.4\u001b[39m)),(\u001b[38;5;124m'\u001b[39m\u001b[38;5;124mclusterer\u001b[39m\u001b[38;5;124m'\u001b[39m, KMeans(n_clusters\u001b[38;5;241m=\u001b[39mn_clusters))])\n\u001b[1;32m----> 3\u001b[0m documents \u001b[38;5;241m=\u001b[39m [\u001b[38;5;28;43mopen\u001b[39;49m\u001b[43m(\u001b[49m\u001b[43mos\u001b[49m\u001b[38;5;241;43m.\u001b[39;49m\u001b[43mpath\u001b[49m\u001b[38;5;241;43m.\u001b[39;49m\u001b[43mjoin\u001b[49m\u001b[43m(\u001b[49m\u001b[43mtext_output_folder\u001b[49m\u001b[43m,\u001b[49m\u001b[43m \u001b[49m\u001b[43mfilename\u001b[49m\u001b[43m)\u001b[49m\u001b[43m)\u001b[49m\u001b[38;5;241;43m.\u001b[39;49m\u001b[43mread\u001b[49m\u001b[43m(\u001b[49m\u001b[43m)\u001b[49m \u001b[38;5;28;01mfor\u001b[39;00m filename \u001b[38;5;129;01min\u001b[39;00m os\u001b[38;5;241m.\u001b[39mlistdir(text_output_folder)]\u001b[38;5;66;03m#\u001b[39;00m\n\u001b[0;32m      5\u001b[0m pipeline\u001b[38;5;241m.\u001b[39mfit(documents)\n\u001b[0;32m      6\u001b[0m labels \u001b[38;5;241m=\u001b[39m pipeline\u001b[38;5;241m.\u001b[39mpredict(documents)\n",
      "\u001b[1;31mUnicodeDecodeError\u001b[0m: 'cp950' codec can't decode byte 0xe2 in position 15529: illegal multibyte sequence"
     ]
    }
   ],
   "source": [
    "'''\n",
    "n_clusters = 10 \n",
    "pipeline = Pipeline([('feature_extraction', TfidfVectorizer(max_df=0.4)),('clusterer', KMeans(n_clusters=n_clusters))])\n",
    "documents = [open(os.path.join(text_output_folder, filename)).read() for filename in os.listdir(text_output_folder)]#\n",
    "\n",
    "pipeline.fit(documents)\n",
    "labels = pipeline.predict(documents)\n",
    "'''"
   ]
  },
  {
   "cell_type": "code",
   "execution_count": 16,
   "id": "8e58dace",
   "metadata": {},
   "outputs": [
    {
     "name": "stderr",
     "output_type": "stream",
     "text": [
      "C:\\Users\\layla\\AppData\\Roaming\\Python\\Python39\\site-packages\\sklearn\\cluster\\_kmeans.py:870: FutureWarning: The default value of `n_init` will change from 10 to 'auto' in 1.4. Set the value of `n_init` explicitly to suppress the warning\n",
      "  warnings.warn(\n"
     ]
    }
   ],
   "source": [
    "import codecs\n",
    "\n",
    "n_clusters = 10 \n",
    "pipeline = Pipeline([('feature_extraction', TfidfVectorizer(max_df=0.4)),('clusterer', KMeans(n_clusters=n_clusters))])\n",
    "\n",
    "documents = []\n",
    "for filename in os.listdir(text_output_folder):\n",
    "    with codecs.open(os.path.join(text_output_folder, filename), 'r', encoding='utf-8', errors='ignore') as f:\n",
    "        documents.append(f.read())\n",
    "\n",
    "pipeline.fit(documents)\n",
    "labels = pipeline.predict(documents)"
   ]
  },
  {
   "cell_type": "code",
   "execution_count": 17,
   "id": "418d7ec6",
   "metadata": {},
   "outputs": [
    {
     "name": "stdout",
     "output_type": "stream",
     "text": [
      "Cluster 0 contains 18 samples\n",
      "Cluster 1 contains 48 samples\n",
      "Cluster 2 contains 25 samples\n",
      "Cluster 3 contains 21 samples\n",
      "Cluster 4 contains 21 samples\n",
      "Cluster 5 contains 177 samples\n",
      "Cluster 6 contains 44 samples\n",
      "Cluster 7 contains 38 samples\n",
      "Cluster 8 contains 21 samples\n",
      "Cluster 9 contains 21 samples\n"
     ]
    }
   ],
   "source": [
    "from collections import Counter\n",
    "c = Counter(labels) \n",
    "for cluster_number in range(n_clusters): \n",
    "    print(\"Cluster {} contains {} samples\".format(cluster_number, c[cluster_number]))"
   ]
  },
  {
   "cell_type": "code",
   "execution_count": 18,
   "id": "85f23aa2",
   "metadata": {},
   "outputs": [
    {
     "data": {
      "text/plain": [
       "228.29569641379985"
      ]
     },
     "execution_count": 18,
     "metadata": {},
     "output_type": "execute_result"
    }
   ],
   "source": [
    "pipeline.named_steps['clusterer'].inertia_"
   ]
  },
  {
   "cell_type": "code",
   "execution_count": 19,
   "id": "b3d034fa",
   "metadata": {},
   "outputs": [],
   "source": [
    "inertia_scores = [] \n",
    "n_cluster_values = list(range(2, 20)) \n",
    "for n_clusters in n_cluster_values: \n",
    "    cur_inertia_scores = [] \n",
    "    X = TfidfVectorizer(max_df=0.4).fit_transform(documents) \n",
    "    for i in range(10): \n",
    "        km = KMeans(n_clusters=n_clusters).fit(X) \n",
    "        cur_inertia_scores.append(km.inertia_) \n",
    "        inertia_scores.append(cur_inertia_scores)"
   ]
  },
  {
   "cell_type": "code",
   "execution_count": 20,
   "id": "31610032",
   "metadata": {},
   "outputs": [
    {
     "data": {
      "text/plain": [
       "19"
      ]
     },
     "execution_count": 20,
     "metadata": {},
     "output_type": "execute_result"
    }
   ],
   "source": [
    "n_clusters"
   ]
  },
  {
   "cell_type": "code",
   "execution_count": 21,
   "id": "69b13c11",
   "metadata": {},
   "outputs": [
    {
     "data": {
      "text/plain": [
       "6"
      ]
     },
     "execution_count": 21,
     "metadata": {},
     "output_type": "execute_result"
    }
   ],
   "source": [
    "n_clusters = 6 \n",
    "pipeline = Pipeline([('feature_extraction', TfidfVectorizer(max_df=0.4)),\n",
    "                     ('clusterer', KMeans(n_clusters=n_clusters))])\n",
    "pipeline.fit(documents) \n",
    "labels = pipeline.predict(documents)\n",
    "n_clusters#"
   ]
  },
  {
   "cell_type": "code",
   "execution_count": 24,
   "id": "6e9af157",
   "metadata": {},
   "outputs": [],
   "source": [
    "terms = pipeline.named_steps['feature_extraction'].get_feature_names_out()\n",
    "c = Counter(labels)"
   ]
  },
  {
   "cell_type": "code",
   "execution_count": 25,
   "id": "11d17652",
   "metadata": {},
   "outputs": [
    {
     "name": "stdout",
     "output_type": "stream",
     "text": [
      "Cluster 0 contains 21 samples\n",
      " Most important terms\n",
      " 1) zjs (score: 0.4167)\n",
      " 2) ybar (score: 0.3232)\n",
      " 3) exports (score: 0.1857)\n",
      " 4) cnn (score: 0.1540)\n",
      " 5) require (score: 0.1429)\n",
      "Cluster 1 contains 44 samples\n",
      " Most important terms\n",
      " 1) resizer (score: 0.5034)\n",
      " 2) filters (score: 0.4171)\n",
      " 3) arcpublishing (score: 0.3853)\n",
      " 4) cloudfront (score: 0.3183)\n",
      " 5) quality (score: 0.3059)\n",
      "Cluster 2 contains 219 samples\n",
      " Most important terms\n",
      " 1) wp (score: 0.0511)\n",
      " 2) pravda (score: 0.0381)\n",
      " 3) eng (score: 0.0326)\n",
      " 4) option (score: 0.0313)\n",
      " 5) euractiv (score: 0.0286)\n",
      "Cluster 3 contains 38 samples\n",
      " Most important terms\n",
      " 1) dcr (score: 0.9281)\n",
      " 2) guardian (score: 0.1778)\n",
      " 3) guim (score: 0.1010)\n",
      " 4) theguardian (score: 0.0736)\n",
      " 5) guardiantextsans (score: 0.0683)\n",
      "Cluster 4 contains 48 samples\n",
      " Most important terms\n",
      " 1) ssrcss (score: 0.8711)\n",
      " 2) bbc (score: 0.1629)\n",
      " 3) model (score: 0.1517)\n",
      " 4) bbci (score: 0.1365)\n",
      " 5) blocks (score: 0.1181)\n",
      "Cluster 5 contains 64 samples\n",
      " Most important terms\n",
      " 1) sc (score: 0.2729)\n",
      " 2) canonicalname (score: 0.1208)\n",
      " 3) ispr (score: 0.1194)\n",
      " 4) navigationshortname (score: 0.1193)\n",
      " 5) issuppressed (score: 0.1193)\n"
     ]
    }
   ],
   "source": [
    "for cluster_number in range(n_clusters): \n",
    "    print(\"Cluster {} contains {} samples\".format(cluster_number, c[cluster_number]))\n",
    "    print(\" Most important terms\")\n",
    "    centroid = pipeline.named_steps['clusterer'].cluster_centers_[cluster_number]\n",
    "    most_important = centroid.argsort()\n",
    "    for i in range(5):\n",
    "        term_index = most_important[-(i+1)]\n",
    "        print(\" {0}) {1} (score: {2:.4f})\".format(i+1, terms[term_index], centroid[term_index]))"
   ]
  },
  {
   "cell_type": "code",
   "execution_count": 26,
   "id": "9f34c66d",
   "metadata": {},
   "outputs": [],
   "source": [
    "X = pipeline.transform(documents)"
   ]
  },
  {
   "cell_type": "code",
   "execution_count": 27,
   "id": "41ce4f31",
   "metadata": {},
   "outputs": [],
   "source": [
    "from scipy.sparse import csr_matrix\n",
    "import numpy as np\n",
    "\n",
    "def create_coassociation_matrix(labels):\n",
    "    rows = [] \n",
    "    cols = []\n",
    "    unique_labels = set(labels) \n",
    "    for label in unique_labels:\n",
    "        indices = np.where(labels == label)[0]\n",
    "        for index1 in indices:\n",
    "            for index2 in indices:\n",
    "                rows.append(index1)\n",
    "                cols.append(index2)\n",
    "    data = np.ones((len(rows),)) \n",
    "    return csr_matrix((data, (rows, cols)), dtype='float')"
   ]
  },
  {
   "cell_type": "code",
   "execution_count": 28,
   "id": "d46ff23a",
   "metadata": {},
   "outputs": [
    {
     "data": {
      "text/plain": [
       "<434x434 sparse matrix of type '<class 'numpy.float64'>'\n",
       "\twith 58182 stored elements in Compressed Sparse Row format>"
      ]
     },
     "execution_count": 28,
     "metadata": {},
     "output_type": "execute_result"
    }
   ],
   "source": [
    "C = create_coassociation_matrix(labels)\n",
    "C"
   ]
  },
  {
   "cell_type": "code",
   "execution_count": 29,
   "id": "2f7bb5e9",
   "metadata": {},
   "outputs": [
    {
     "name": "stderr",
     "output_type": "stream",
     "text": [
      "C:\\Users\\layla\\AppData\\Roaming\\Python\\Python39\\site-packages\\sklearn\\cluster\\_kmeans.py:870: FutureWarning: The default value of `n_init` will change from 10 to 'auto' in 1.4. Set the value of `n_init` explicitly to suppress the warning\n",
      "  warnings.warn(\n"
     ]
    }
   ],
   "source": [
    "from scipy.sparse.csgraph import minimum_spanning_tree\n",
    "mst = minimum_spanning_tree(C)\n",
    "mst = minimum_spanning_tree(-C)\n",
    "\n",
    "pipeline.fit(documents) \n",
    "labels2 = pipeline.predict(documents) \n",
    "C2 = create_coassociation_matrix(labels2) \n",
    "C_sum = (C + C2) / 2\n",
    "mst = minimum_spanning_tree(-C_sum) \n",
    "mst.data[mst.data > -1] = 0\n",
    "\n",
    "from scipy.sparse.csgraph import connected_components \n",
    "\n",
    "number_of_clusters, labels = connected_components(mst)"
   ]
  },
  {
   "cell_type": "code",
   "execution_count": 30,
   "id": "cd7e05e0",
   "metadata": {},
   "outputs": [],
   "source": [
    "from sklearn.base import BaseEstimator, ClusterMixin \n",
    "class EAC(BaseEstimator, ClusterMixin):\n",
    "    def __init__(self, n_clusterings=10, cut_threshold=0.5, n_clusters_range=(3, 10)): \n",
    "        self.n_clusterings = n_clusterings\n",
    "        self.cut_threshold = cut_threshold\n",
    "        self.n_clusters_range = n_clusters_range\n",
    "\n",
    "    def fit(self, X, y=None):\n",
    "        C = sum((create_coassociation_matrix(self._single_clustering(X))\n",
    "                 for i in range(self.n_clusterings)))\n",
    "        mst = minimum_spanning_tree(-C)\n",
    "        mst.data[mst.data > -self.cut_threshold] = 0\n",
    "        mst.eliminate_zeros()\n",
    "        self.n_components, self.labels_ = connected_components(mst)\n",
    "        return self\n",
    " \n",
    "    def _single_clustering(self, X):\n",
    "        n_clusters = np.random.randint(*self.n_clusters_range)\n",
    "        km = KMeans(n_clusters=n_clusters)\n",
    "        return km.fit_predict(X)\n",
    " \n",
    "    def fit_predict(self, X):\n",
    "        self.fit(X)\n",
    "        return self.labels_"
   ]
  },
  {
   "cell_type": "code",
   "execution_count": 31,
   "id": "0608d981",
   "metadata": {},
   "outputs": [],
   "source": [
    "pipeline = Pipeline([('feature_extraction', TfidfVectorizer(max_df=0.4)),\n",
    "                     ('clusterer', EAC()) ])\n",
    "vec = TfidfVectorizer(max_df=0.4) \n",
    "X = vec.fit_transform(documents)"
   ]
  },
  {
   "cell_type": "code",
   "execution_count": 32,
   "id": "7ecbffc4",
   "metadata": {
    "scrolled": true
   },
   "outputs": [
    {
     "name": "stderr",
     "output_type": "stream",
     "text": [
      "C:\\Users\\layla\\AppData\\Roaming\\Python\\Python39\\site-packages\\sklearn\\cluster\\_kmeans.py:870: FutureWarning: The default value of `n_init` will change from 3 to 'auto' in 1.4. Set the value of `n_init` explicitly to suppress the warning\n",
      "  warnings.warn(\n"
     ]
    },
    {
     "data": {
      "text/plain": [
       "array([0, 0, 1, 1, 0, 2, 1, 1, 0, 0, 0, 0, 0, 1, 0, 0, 1, 1, 0, 1, 0, 1,\n",
       "       0, 0, 1, 0, 0, 2, 0, 0, 0, 0, 0, 2, 0, 1, 0, 0, 1, 0, 0, 0, 0, 2,\n",
       "       0, 1, 0, 1, 0, 2, 0, 0, 0, 0, 0, 2, 1, 2, 1, 0, 0, 0, 0, 0, 0, 0,\n",
       "       1, 0, 0, 0, 0, 1, 2, 0, 1, 0, 1, 2, 0, 0, 2, 2, 0, 0, 2, 0, 1, 0,\n",
       "       0, 0, 0, 0, 0, 0, 1, 0, 1, 0, 0, 0, 0, 0, 2, 2, 0, 0, 2, 0, 0, 0,\n",
       "       0, 0, 0, 2, 0, 0, 1, 0, 1, 1, 0, 0, 0, 0, 0, 1, 0, 0, 0, 2, 0, 0,\n",
       "       0, 1, 0, 0, 1, 0, 0, 0, 0, 0, 0, 1, 2, 2, 0, 0, 0, 0, 0, 0, 1, 0,\n",
       "       1, 0, 0, 0, 0, 0, 2, 1, 1, 0, 0, 0, 0, 2, 0, 2, 0, 0, 0, 0, 0, 0,\n",
       "       2, 0, 0, 0, 1, 0, 0, 0, 2, 1, 0, 1, 0, 0, 2, 0, 0, 0, 0, 0, 0, 0,\n",
       "       0, 0, 0, 2, 0, 1, 0, 0, 0, 0, 0, 0, 0, 0, 0, 0, 0, 0, 0, 1, 1, 1,\n",
       "       2, 0, 0, 0, 0, 0, 0, 0, 0, 0, 0, 2, 2, 1, 1, 0, 0, 0, 0, 0, 0, 0,\n",
       "       0, 2, 0, 0, 0, 1, 1, 0, 0, 0, 1, 0, 0, 0, 0, 1, 0, 0, 1, 0, 0, 0,\n",
       "       0, 1, 1, 1, 1, 0, 1, 0, 0, 2, 0, 0, 1, 0, 1, 0, 0, 1, 0, 0, 1, 0,\n",
       "       1, 1, 0, 0, 0, 0, 0, 1, 0, 1, 0, 0, 0, 0, 0, 1, 0, 0, 0, 0, 0, 0,\n",
       "       0, 0, 0, 0, 0, 1, 0, 0, 0, 0, 0, 0, 0, 1, 2, 1, 1, 0, 0, 1, 0, 2,\n",
       "       0, 0, 0, 0, 0, 0, 0, 1, 0, 0, 0, 0, 0, 0, 0, 1, 0, 2, 2, 0, 1, 1,\n",
       "       2, 2, 0, 0, 0, 0, 0, 2, 0, 0, 0, 0, 0, 0, 0, 0, 0, 0, 0, 2, 0, 0,\n",
       "       0, 2, 0, 0, 1, 0, 0, 2, 1, 0, 2, 0, 0, 0, 0, 0, 2, 0, 2, 1, 0, 1,\n",
       "       0, 0, 2, 0, 0, 0, 0, 0, 0, 1, 0, 0, 2, 0, 0, 0, 1, 1, 0, 0, 1, 1,\n",
       "       0, 0, 0, 1, 0, 0, 0, 0, 0, 1, 2, 0, 0, 0, 2, 0])"
      ]
     },
     "execution_count": 32,
     "metadata": {},
     "output_type": "execute_result"
    }
   ],
   "source": [
    "from sklearn.cluster import MiniBatchKMeans \n",
    "\n",
    "mbkm = MiniBatchKMeans(random_state=14, n_clusters=3)\n",
    "batch_size = 10 \n",
    "\n",
    "for iteration in range(int(X.shape[0] / batch_size)): \n",
    "    start = batch_size * iteration \n",
    "    end = batch_size * (iteration + 1) \n",
    "    mbkm.partial_fit(X[start:end])\n",
    "    \n",
    "labels = mbkm.predict(X)\n",
    "labels"
   ]
  },
  {
   "cell_type": "code",
   "execution_count": 33,
   "id": "158d1ee7",
   "metadata": {},
   "outputs": [],
   "source": [
    "class PartialFitPipeline(Pipeline):\n",
    "    def partial_fit(self, X, y=None):\n",
    "        Xt = X\n",
    "        for name, transform in self.steps[:-1]:\n",
    "            Xt = transform.transform(Xt)\n",
    "        return self.steps[-1][1].partial_fit(Xt, y=y)"
   ]
  },
  {
   "cell_type": "code",
   "execution_count": 34,
   "id": "9a7fb120",
   "metadata": {},
   "outputs": [
    {
     "data": {
      "text/plain": [
       "array([2, 2, 1, 1, 2, 2, 1, 0, 2, 2, 2, 2, 2, 0, 2, 1, 0, 1, 2, 0, 2, 0,\n",
       "       2, 2, 1, 2, 2, 2, 2, 2, 2, 2, 2, 2, 2, 0, 2, 2, 1, 2, 2, 2, 2, 2,\n",
       "       2, 0, 2, 0, 2, 2, 2, 2, 2, 2, 2, 2, 0, 2, 0, 2, 2, 2, 2, 2, 2, 2,\n",
       "       0, 2, 2, 2, 2, 1, 2, 2, 1, 2, 1, 2, 2, 2, 2, 2, 2, 2, 2, 2, 0, 2,\n",
       "       2, 2, 2, 2, 2, 2, 0, 2, 0, 2, 2, 2, 2, 2, 2, 2, 2, 2, 2, 2, 2, 2,\n",
       "       2, 2, 2, 2, 2, 1, 1, 2, 0, 1, 2, 2, 2, 2, 2, 1, 1, 2, 2, 2, 2, 2,\n",
       "       2, 0, 2, 1, 1, 2, 2, 2, 2, 2, 2, 1, 2, 2, 2, 2, 2, 2, 2, 2, 0, 2,\n",
       "       1, 2, 2, 2, 2, 2, 2, 0, 1, 2, 2, 2, 1, 2, 2, 2, 2, 2, 2, 2, 2, 2,\n",
       "       2, 2, 2, 2, 0, 2, 2, 2, 2, 1, 2, 0, 2, 2, 2, 2, 2, 2, 2, 2, 2, 2,\n",
       "       2, 2, 2, 2, 2, 0, 2, 2, 2, 2, 2, 1, 2, 2, 2, 2, 2, 2, 2, 0, 0, 0,\n",
       "       2, 2, 2, 2, 2, 2, 2, 2, 2, 1, 2, 2, 2, 1, 1, 2, 2, 2, 2, 2, 2, 2,\n",
       "       2, 2, 2, 2, 2, 0, 1, 2, 2, 2, 0, 2, 2, 2, 2, 0, 2, 2, 0, 2, 2, 2,\n",
       "       2, 0, 1, 0, 0, 2, 1, 2, 2, 2, 2, 2, 0, 2, 0, 2, 2, 1, 2, 2, 1, 2,\n",
       "       0, 1, 2, 2, 2, 2, 2, 1, 2, 0, 2, 2, 2, 2, 2, 0, 2, 2, 2, 2, 1, 2,\n",
       "       2, 2, 2, 2, 2, 1, 2, 2, 2, 2, 2, 2, 2, 1, 2, 1, 1, 2, 2, 0, 2, 2,\n",
       "       2, 2, 2, 2, 2, 2, 2, 1, 2, 2, 2, 2, 2, 2, 2, 0, 2, 2, 2, 2, 0, 1,\n",
       "       2, 2, 2, 2, 2, 2, 2, 2, 2, 2, 2, 2, 2, 1, 2, 2, 2, 2, 1, 2, 2, 2,\n",
       "       2, 2, 1, 2, 0, 2, 2, 2, 1, 2, 2, 2, 2, 2, 2, 2, 2, 2, 2, 0, 2, 1,\n",
       "       2, 2, 2, 2, 2, 2, 2, 2, 2, 0, 2, 2, 2, 2, 2, 2, 1, 1, 2, 2, 0, 0,\n",
       "       2, 2, 2, 1, 1, 2, 2, 2, 2, 1, 2, 2, 2, 2, 2, 2])"
      ]
     },
     "execution_count": 34,
     "metadata": {},
     "output_type": "execute_result"
    }
   ],
   "source": [
    "from sklearn.feature_extraction.text import HashingVectorizer\n",
    "\n",
    "pipeline = PartialFitPipeline([('feature_extraction', HashingVectorizer()),('clusterer', MiniBatchKMeans(random_state=14, n_clusters=3))])\n",
    "batch_size = 10 \n",
    "\n",
    "for iteration in range(int(len(documents) / batch_size)): \n",
    "    start = batch_size * iteration \n",
    "    end = batch_size * (iteration + 1)\n",
    "    pipeline.partial_fit(documents[start:end]) \n",
    "    \n",
    "labels = pipeline.predict(documents)\n",
    "labels"
   ]
  }
 ],
 "metadata": {
  "kernelspec": {
   "display_name": "Python 3 (ipykernel)",
   "language": "python",
   "name": "python3"
  },
  "language_info": {
   "codemirror_mode": {
    "name": "ipython",
    "version": 3
   },
   "file_extension": ".py",
   "mimetype": "text/x-python",
   "name": "python",
   "nbconvert_exporter": "python",
   "pygments_lexer": "ipython3",
   "version": "3.9.12"
  }
 },
 "nbformat": 4,
 "nbformat_minor": 5
}
