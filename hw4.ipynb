{
 "cells": [
  {
   "cell_type": "code",
   "execution_count": null,
   "id": "c00c71a5-f7b4-4aab-86aa-36c516cf9f42",
   "metadata": {},
   "outputs": [],
   "source": [
    "import numpy as np\n",
    "x = np.array(12)\n",
    "x\n",
    "x.ndim"
   ]
  },
  {
   "cell_type": "code",
   "execution_count": 3,
   "id": "56b4f0fd-dc51-4c31-83ae-9f0d71a20667",
   "metadata": {},
   "outputs": [
    {
     "data": {
      "text/plain": [
       "1"
      ]
     },
     "execution_count": 3,
     "metadata": {},
     "output_type": "execute_result"
    }
   ],
   "source": [
    "x = np.array([12, 3, 6, 14, 7])\n",
    "x\n",
    "x.ndim"
   ]
  },
  {
   "cell_type": "code",
   "execution_count": 4,
   "id": "3b335224-60ca-492f-b8e0-bfa3de044d79",
   "metadata": {},
   "outputs": [
    {
     "data": {
      "text/plain": [
       "2"
      ]
     },
     "execution_count": 4,
     "metadata": {},
     "output_type": "execute_result"
    }
   ],
   "source": [
    "x = np.array([[5, 78, 2, 34, 0],\n",
    "              [6, 79, 3, 35, 1],\n",
    "              [7, 80, 4, 36, 2]])\n",
    "x.ndim"
   ]
  },
  {
   "cell_type": "code",
   "execution_count": 15,
   "id": "0c977187-96fc-4176-8554-920ea887e426",
   "metadata": {},
   "outputs": [
    {
     "data": {
      "text/plain": [
       "3"
      ]
     },
     "execution_count": 15,
     "metadata": {},
     "output_type": "execute_result"
    }
   ],
   "source": [
    "x = np.array([[[5, 78, 2, 34, 0],\n",
    "              [6, 79, 3, 35, 1],\n",
    "              [7, 80, 4, 36, 2]],\n",
    "             [[5, 78, 2, 34, 0],\n",
    "              [6, 79, 3, 35, 1],\n",
    "              [7, 80, 4, 36, 2]],\n",
    "             [[5, 78, 2, 34, 0],\n",
    "              [6, 79, 3, 35, 1],\n",
    "              [7, 80, 4, 36, 2]]])\n",
    "x.ndim"
   ]
  },
  {
   "cell_type": "code",
   "execution_count": 16,
   "id": "426d4978-51c5-480d-a520-aebd7c9d172f",
   "metadata": {},
   "outputs": [
    {
     "name": "stdout",
     "output_type": "stream",
     "text": [
      "tf.Tensor(\n",
      "[[1. 1.]\n",
      " [1. 1.]\n",
      " [1. 1.]], shape=(3, 2), dtype=float32)\n",
      "tf.Tensor(\n",
      "[[0.]\n",
      " [0.]], shape=(2, 1), dtype=float32)\n",
      "tf.Tensor(\n",
      "[[ 0.5542894 ]\n",
      " [-0.21516387]\n",
      " [-0.6930038 ]], shape=(3, 1), dtype=float32)\n",
      "tf.Tensor(\n",
      "[[0.64418566 0.8357451  0.4699453  0.91521704]\n",
      " [0.2290411  0.69831336 0.54338264 0.9804516 ]\n",
      " [0.00894105 0.71146214 0.69476044 0.5725225 ]\n",
      " [0.27915645 0.6659664  0.8177345  0.82895255]\n",
      " [0.6416129  0.3561089  0.6034751  0.37415683]], shape=(5, 4), dtype=float32)\n",
      "<tf.Variable 'Variable:0' shape=(3, 2) dtype=float32, numpy=\n",
      "array([[ 1.8956708 ,  0.104816  ],\n",
      "       [ 0.07408183, -1.002298  ],\n",
      "       [ 0.54282886,  0.02434442]], dtype=float32)>\n"
     ]
    }
   ],
   "source": [
    "import tensorflow as tf\n",
    "x = tf.ones(shape=(3, 2))\n",
    "print(x)\n",
    "\n",
    "x = tf.zeros(shape=(2, 1))\n",
    "print(x)\n",
    "\n",
    "x = tf.random.normal(shape=(3, 1), mean=0., stddev=1.)\n",
    "print(x)\n",
    "\n",
    "x = tf.random.uniform(shape=(5, 4), minval=0., maxval=1.)\n",
    "print(x)\n",
    "\n",
    "import numpy as np\n",
    "x = np.ones(shape=(2, 2))\n",
    "x[0, 0] = 0.\n",
    "\n",
    "v = tf.Variable(initial_value=tf.random.normal(shape=(3, 2)))\n",
    "print(v)\n",
    "\n"
   ]
  },
  {
   "cell_type": "code",
   "execution_count": null,
   "id": "2762bc17-f08e-41d3-8a03-cd82d26d0d29",
   "metadata": {},
   "outputs": [],
   "source": []
  }
 ],
 "metadata": {
  "kernelspec": {
   "display_name": "Python 3 (ipykernel)",
   "language": "python",
   "name": "python3"
  },
  "language_info": {
   "codemirror_mode": {
    "name": "ipython",
    "version": 3
   },
   "file_extension": ".py",
   "mimetype": "text/x-python",
   "name": "python",
   "nbconvert_exporter": "python",
   "pygments_lexer": "ipython3",
   "version": "3.9.12"
  }
 },
 "nbformat": 4,
 "nbformat_minor": 5
}
